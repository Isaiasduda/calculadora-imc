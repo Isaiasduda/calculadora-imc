{
  "nbformat": 4,
  "nbformat_minor": 0,
  "metadata": {
    "colab": {
      "provenance": [],
      "authorship_tag": "ABX9TyPFKBmIhJOPSDLSNbKRtONX",
      "include_colab_link": true
    },
    "kernelspec": {
      "name": "python3",
      "display_name": "Python 3"
    },
    "language_info": {
      "name": "python"
    }
  },
  "cells": [
    {
      "cell_type": "markdown",
      "metadata": {
        "id": "view-in-github",
        "colab_type": "text"
      },
      "source": [
        "<a href=\"https://colab.research.google.com/github/Isaiasduda/calculadora-imc/blob/main/Modulo_py.ipynb\" target=\"_parent\"><img src=\"https://colab.research.google.com/assets/colab-badge.svg\" alt=\"Open In Colab\"/></a>"
      ]
    },
    {
      "cell_type": "code",
      "execution_count": null,
      "metadata": {
        "id": "ARaGToSGYd0e"
      },
      "outputs": [],
      "source": [
        "peso = float(input('Digite seu peso em KG: '))\n",
        "altura = float(input('Digita sua altura em CM:'))\n",
        "\n",
        "imc = peso / (altura / 100) **2\n",
        "\n",
        "\n",
        "if imc < 18.4:\n",
        "    print(f'{imc:.2f} = Magreza')\n",
        "elif imc >= 18.5 and imc < 24.9:\n",
        "    print(f'{imc:.2f} = Normal')\n",
        "elif imc >= 25.0 and imc < 29.9:\n",
        "    print(f'{imc:.2f} = Sobrepeso')\n",
        "elif imc >= 30.0 and imc < 39.9:\n",
        "    print(f'{imc:.2f} = Obeso')\n",
        "else:\n",
        "    print(f'{imc:.2f} = Obesidade Grave')"
      ]
    }
  ]
}